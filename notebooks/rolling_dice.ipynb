{
 "cells": [
  {
   "cell_type": "markdown",
   "metadata": {},
   "source": [
    "# Dice Rolling Game"
   ]
  },
  {
   "cell_type": "markdown",
   "metadata": {},
   "source": [
    "- This notebook is to work on the simple solution and the created script is to work on modifications as listed in the pdf\n",
    "- in other words use this notebook to first get the simple working code"
   ]
  },
  {
   "cell_type": "markdown",
   "metadata": {},
   "source": [
    "## SETUP"
   ]
  },
  {
   "cell_type": "code",
   "execution_count": 5,
   "metadata": {},
   "outputs": [
    {
     "name": "stdout",
     "output_type": "stream",
     "text": [
      "Overwriting ../dev/rolling_dice.py\n"
     ]
    }
   ],
   "source": [
    "%%writefile ../dev/rolling_dice.py\n",
    "\n",
    "print(\"hello world\")"
   ]
  },
  {
   "cell_type": "code",
   "execution_count": 11,
   "metadata": {},
   "outputs": [
    {
     "name": "stdout",
     "output_type": "stream",
     "text": [
      "Appending to ../dev/rolling_dice.py\n"
     ]
    }
   ],
   "source": [
    "%%writefile -a ../dev/rolling_dice.py\n",
    "\n",
    "print(\"another line\")"
   ]
  },
  {
   "cell_type": "markdown",
   "metadata": {},
   "source": [
    "## CODE - BASIC"
   ]
  },
  {
   "cell_type": "markdown",
   "metadata": {},
   "source": [
    "- create a function to generate a random number\n",
    "- create a tuple to store 2 numbers"
   ]
  },
  {
   "cell_type": "code",
   "execution_count": 33,
   "metadata": {},
   "outputs": [],
   "source": [
    "# import a random number generator\n",
    "import random\n",
    "\n",
    "\n",
    "# function to generate a random number between 0 and 5\n",
    "def generate_random_number():\n",
    "    return random.randint(1, 6)"
   ]
  },
  {
   "cell_type": "code",
   "execution_count": 39,
   "metadata": {},
   "outputs": [
    {
     "data": {
      "text/plain": [
       "(4, 5)"
      ]
     },
     "execution_count": 39,
     "metadata": {},
     "output_type": "execute_result"
    }
   ],
   "source": [
    "# function to get 2 random numbers\n",
    "def get_two_dice_numbers():\n",
    "    return (generate_random_number(), generate_random_number())\n",
    "\n",
    "\n",
    "print(get_two_dice_numbers())"
   ]
  },
  {
   "cell_type": "code",
   "execution_count": 42,
   "metadata": {},
   "outputs": [
    {
     "name": "stdout",
     "output_type": "stream",
     "text": [
      "Thanks for playing!\n"
     ]
    }
   ],
   "source": [
    "while True:\n",
    "    user_input = input(\"Roll the dice? (y/n): \")\n",
    "    if user_input.lower() == \"y\":\n",
    "        print(get_two_dice_numbers())\n",
    "    elif user_input.lower() == \"n\":\n",
    "        print(\"Thanks for playing!\")\n",
    "        break\n",
    "    else:\n",
    "        print(\"Invalid choice!\")"
   ]
  },
  {
   "cell_type": "markdown",
   "metadata": {},
   "source": [
    "## CODE - HOW MANY DICE TO ROLL"
   ]
  },
  {
   "cell_type": "code",
   "execution_count": 7,
   "metadata": {},
   "outputs": [
    {
     "data": {
      "text/plain": [
       "2"
      ]
     },
     "execution_count": 7,
     "metadata": {},
     "output_type": "execute_result"
    }
   ],
   "source": [
    "# function to ask how many dice to roll\n",
    "def how_many_dice_to_roll():\n",
    "    try:\n",
    "        count_of_dice_to_roll = int(input(\"how many dice to roll?\"))\n",
    "        if (count_of_dice_to_roll >= 1) and (count_of_dice_to_roll <= 10):\n",
    "            return count_of_dice_to_roll\n",
    "        else:\n",
    "            print(\"please check your input. it should a number between 1 to 10\")\n",
    "            return 0\n",
    "    except:\n",
    "        print(\"please check your input. it should a number between 1 to 10\")\n",
    "        return 0\n",
    "\n",
    "\n",
    "how_many_dice_to_roll()"
   ]
  },
  {
   "cell_type": "code",
   "execution_count": 9,
   "metadata": {},
   "outputs": [
    {
     "name": "stdout",
     "output_type": "stream",
     "text": [
      "4\n",
      "0\n"
     ]
    }
   ],
   "source": [
    "dice_to_roll = how_many_dice_to_roll()\n",
    "print(dice_to_roll)\n",
    "for dice in range(2):\n",
    "    print(dice)\n",
    "    break"
   ]
  },
  {
   "cell_type": "code",
   "execution_count": null,
   "metadata": {},
   "outputs": [],
   "source": [
    "\n",
    "while True:\n",
    "    user_input = input(\"Roll the dice? (y/n): \")\n",
    "    if user_input.lower() == \"y\":\n",
    "        print(get_two_dice_numbers())\n",
    "    elif user_input.lower() == \"n\":\n",
    "        print(\"Thanks for playing!\")\n",
    "        break\n",
    "    else:\n",
    "        print(\"Invalid choice!\")"
   ]
  },
  {
   "cell_type": "code",
   "execution_count": null,
   "metadata": {},
   "outputs": [],
   "source": []
  }
 ],
 "metadata": {
  "kernelspec": {
   "display_name": ".venv",
   "language": "python",
   "name": "python3"
  },
  "language_info": {
   "codemirror_mode": {
    "name": "ipython",
    "version": 3
   },
   "file_extension": ".py",
   "mimetype": "text/x-python",
   "name": "python",
   "nbconvert_exporter": "python",
   "pygments_lexer": "ipython3",
   "version": "3.10.14"
  }
 },
 "nbformat": 4,
 "nbformat_minor": 2
}
